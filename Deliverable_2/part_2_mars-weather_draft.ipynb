{
 "cells": [
  {
   "cell_type": "markdown",
   "metadata": {},
   "source": [
    "# Module 11 Challenge\n",
    "## Deliverable 2: Scrape and Analyse Mars Weather Data"
   ]
  },
  {
   "cell_type": "markdown",
   "metadata": {},
   "source": [
    "### Step 0: Dependencies and Setup"
   ]
  },
  {
   "cell_type": "code",
   "execution_count": null,
   "metadata": {},
   "outputs": [],
   "source": [
    "# Import relevant libraries\n",
    "from splinter import Browser\n",
    "from bs4 import BeautifulSoup\n",
    "import matplotlib.pyplot as plt\n",
    "import pandas as pd"
   ]
  },
  {
   "cell_type": "code",
   "execution_count": null,
   "metadata": {},
   "outputs": [],
   "source": [
    "browser = Browser('chrome')"
   ]
  },
  {
   "cell_type": "markdown",
   "metadata": {},
   "source": [
    "### Step 1: Visit the Website\n",
    "\n",
    "Use automated browsing to visit the [Mars Temperature Data Site](https://static.bc-edx.com/data/web/mars_facts/temperature.html). Inspect the page to identify which elements to scrape.\n",
    "\n",
    "   > **Hint** To identify which elements to scrape, you might want to inspect the page by using Chrome DevTools to discover whether the table contains usable classes.\n"
   ]
  },
  {
   "cell_type": "code",
   "execution_count": null,
   "metadata": {},
   "outputs": [],
   "source": [
    "# Visit the website\n",
    "# https://static.bc-edx.com/data/web/mars_facts/temperature.html\n",
    "\n",
    "url = 'https://static.bc-edx.com/data/web/mars_facts/temperature.html'\n",
    "browser.visit(url)\n"
   ]
  },
  {
   "cell_type": "markdown",
   "metadata": {},
   "source": [
    "### Step 2: Scrape the Table\n",
    "\n",
    "Create a Beautiful Soup object and use it to scrape the data in the HTML table.\n",
    "\n",
    "Note that this can also be achieved by using the Pandas `read_html` function. However, use Beautiful Soup here to continue sharpening your web scraping skills."
   ]
  },
  {
   "cell_type": "code",
   "execution_count": null,
   "metadata": {},
   "outputs": [],
   "source": [
    "# Create a Beautiful Soup Object\n",
    "# Retrieve the HTML content of the page\n",
    "html = browser.html\n",
    "\n",
    "# Create a Beautiful Soup object\n",
    "soup = BeautifulSoup(html, 'html.parser')"
   ]
  },
  {
   "cell_type": "code",
   "execution_count": null,
   "metadata": {},
   "outputs": [],
   "source": [
    "# Extract all rows of data\n",
    "table = soup.find('table')\n",
    "\n",
    "# Extract all rows of data\n",
    "rows = table.find_all('tr')\n",
    "\n",
    "# Print the rows of data\n",
    "for row in rows:\n",
    "    print(row)"
   ]
  },
  {
   "cell_type": "code",
   "execution_count": null,
   "metadata": {},
   "outputs": [],
   "source": [
    "# Print the rows using the prettify() method\n",
    "for row in rows:\n",
    "    print(row.prettify())"
   ]
  },
  {
   "cell_type": "markdown",
   "metadata": {},
   "source": [
    "### Step 3: Store the Data\n",
    "\n",
    "Assemble the scraped data into a Pandas DataFrame. The columns should have the same headings as the table on the website. Here’s an explanation of the column headings:\n",
    "\n",
    "* `id`: the identification number of a single transmission from the Curiosity rover\n",
    "* `terrestrial_date`: the date on Earth\n",
    "* `sol`: the number of elapsed sols (Martian days) since Curiosity landed on Mars\n",
    "* `ls`: the solar longitude\n",
    "* `month`: the Martian month\n",
    "* `min_temp`: the minimum temperature, in Celsius, of a single Martian day (sol)\n",
    "* `pressure`: The atmospheric pressure at Curiosity's location"
   ]
  },
  {
   "cell_type": "code",
   "execution_count": null,
   "metadata": {},
   "outputs": [],
   "source": [
    "# Create an empty list\n",
    "data = []\n",
    "\n",
    "# Loop through the scraped data to create a list of rows\n",
    "for row in rows[1:]: # Skipping the header row\n",
    "    # Find all columns in each row\n",
    "    cols = row.find_all('td')\n",
    "\n",
    "    # Extract the text from each column and strip the whitespace\n",
    "    row_data = [col.text.strip() for col in cols]\n",
    "\n",
    "    # Append the list of row data to the list of rows\n",
    "    data.append(row_data)\n",
    "\n",
    "# Print the data to check that the data was scraped correctly\n",
    "for row in data:\n",
    "    print(row)\n"
   ]
  },
  {
   "cell_type": "code",
   "execution_count": null,
   "metadata": {},
   "outputs": [],
   "source": [
    "# Stripping the header row of the table\n",
    "header_row = rows[0]\n",
    "column_names = [col.text.strip() for col in header_row.find_all('th')]\n",
    "\n",
    "column_names"
   ]
  },
  {
   "cell_type": "code",
   "execution_count": null,
   "metadata": {},
   "outputs": [],
   "source": [
    "# Create a Pandas DataFrame by using the list of rows and a list of the column names\n",
    "df = pd.DataFrame(data, columns=column_names)\n",
    "\n",
    "df.head()"
   ]
  },
  {
   "cell_type": "markdown",
   "metadata": {},
   "source": [
    "### Step 4: Prepare Data for Analysis\n",
    "\n",
    "Examine the data types that are currently associated with each column. If necessary, cast (or convert) the data to the appropriate `datetime`, `int`, or `float` data types.\n",
    "\n",
    "  > **Hint** You can use the Pandas `astype` and `to_datetime` methods to accomplish this task.\n"
   ]
  },
  {
   "cell_type": "code",
   "execution_count": null,
   "metadata": {},
   "outputs": [],
   "source": [
    "# Examine data type of each column\n",
    "print(df.dtypes)"
   ]
  },
  {
   "cell_type": "code",
   "execution_count": null,
   "metadata": {},
   "outputs": [],
   "source": [
    "# Change data types for data analysis\n",
    "df['terrestrial_date'] = pd.to_datetime(df['terrestrial_date'])\n",
    "\n",
    "# Convert 'sol', 'ls' and 'month' columns to integers\n",
    "df['sol'] = df['sol'].astype(int)\n",
    "df['ls'] = df['ls'].astype(int)\n",
    "df['month'] = df['month'].astype(int)\n",
    "\n",
    "# Convert 'pressure' and 'min_temp' columns to floats\n",
    "df['pressure'] = df['pressure'].astype(float)\n",
    "df['min_temp'] = df['min_temp'].astype(float)\n",
    "\n",
    "df.dtypes\n"
   ]
  },
  {
   "cell_type": "markdown",
   "metadata": {},
   "source": [
    "### Step 5: Analyse the Data\n",
    "\n",
    "Analyse your dataset by using Pandas functions to answer the following questions:\n",
    "\n",
    "1. How many months exist on Mars?\n",
    "2. How many Martian (and not Earth) days worth of data exist in the scraped dataset?\n",
    "3. What are the coldest and the warmest months on Mars (at the location of Curiosity)? To answer this question:\n",
    "    * Find the average the minimum daily temperature for all of the months.\n",
    "    * Plot the results as a bar chart.\n",
    "4. Which months have the lowest and the highest atmospheric pressure on Mars? To answer this question:\n",
    "    * Find the average the daily atmospheric pressure of all the months.\n",
    "    * Plot the results as a bar chart.\n",
    "5. About how many terrestrial (Earth) days exist in a Martian year? To answer this question:\n",
    "    * Consider how many days elapse on Earth in the time that Mars circles the Sun once.\n",
    "    * Visually estimate the result by plotting the daily minimum temperature.\n"
   ]
  },
  {
   "cell_type": "code",
   "execution_count": null,
   "metadata": {},
   "outputs": [],
   "source": [
    "# 1. How many months are there on Mars?\n",
    "# Determine the number of unique months on Mars\n",
    "unique_months = df['month'].nunique()\n",
    "\n",
    "# Print the number of unique months\n",
    "print(f\"There are {unique_months} unique months on Mars.\")"
   ]
  },
  {
   "cell_type": "code",
   "execution_count": null,
   "metadata": {},
   "outputs": [],
   "source": [
    "# Determine the number of unique Martian days (sols) in the dataset\n",
    "unique_id = df['id'].nunique()\n",
    "\n",
    "# Print the number of unique Martian days\n",
    "print(f\"There are {unique_id} Martian days' worth of data in the dataset.\")"
   ]
  },
  {
   "cell_type": "code",
   "execution_count": null,
   "metadata": {},
   "outputs": [],
   "source": [
    "# 3. What is the average low temperature by month?\n",
    "# The average minimum daily temperature for each month\n",
    "avg_min_temp_by_month = df.groupby('month')['min_temp'].mean()\n",
    "\n",
    "# Print the results\n",
    "print(avg_min_temp_by_month)"
   ]
  },
  {
   "cell_type": "code",
   "execution_count": null,
   "metadata": {},
   "outputs": [],
   "source": [
    "# Plot the average minimum daily temperature for each month\n",
    "plt.figure(figsize=(10, 6))\n",
    "avg_min_temp_by_month.plot(kind='bar')\n",
    "plt.xlabel('Month')\n",
    "plt.ylabel('Average Minimum Temperature (Celsius)')\n",
    "plt.title('Average Minimum Daily Temperature by Month on Mars')\n",
    "plt.xticks(rotation=0)\n",
    "\n",
    "# Save the plot as a .png file\n",
    "plt.savefig('outputs/average_min_temp_by_month.png', bbox_inches='tight')\n",
    "\n",
    "plt.show()"
   ]
  },
  {
   "cell_type": "code",
   "execution_count": null,
   "metadata": {},
   "outputs": [],
   "source": [
    "# Save the DataFrame to a CSV file in the outputs folder\n",
    "df.to_csv('Outputs/mars_weather_data.csv', index=False)"
   ]
  },
  {
   "cell_type": "code",
   "execution_count": null,
   "metadata": {},
   "outputs": [],
   "source": [
    "# Sort the values\n",
    "sorted_avg_min_temp_by_month = avg_min_temp_by_month.sort_values()\n",
    "\n",
    "# Plot the average minimum daily temperature for each month\n",
    "plt.figure(figsize=(10, 6))\n",
    "bars = plt.bar(sorted_avg_min_temp_by_month.index, sorted_avg_min_temp_by_month.values, color='grey')\n",
    "\n",
    "# Color the lowest temperature bar blue and the highest temperature bar red\n",
    "bars[0].set_color('blue')\n",
    "bars[-1].set_color('red')\n",
    "\n",
    "plt.xlabel('Month')\n",
    "plt.ylabel('Average Minimum Temperature (Celsius)')\n",
    "plt.title('Average Minimum Daily Temperature by Month on Mars')\n",
    "plt.xticks(ticks=sorted_avg_min_temp_by_month.index, labels=sorted_avg_min_temp_by_month.index)\n",
    "\n",
    "plt.show"
   ]
  },
  {
   "cell_type": "code",
   "execution_count": null,
   "metadata": {},
   "outputs": [],
   "source": [
    "# Find the month with the lowest average minimum temperature\n",
    "coldest_month = avg_min_temp_by_month.idxmin()\n",
    "coldest_temp = avg_min_temp_by_month.min()\n",
    "\n",
    "# Find the month with the highest average minimum temperature\n",
    "warmest_month = avg_min_temp_by_month.idxmax()\n",
    "warmest_temp = avg_min_temp_by_month.max()\n",
    "\n",
    "# Print the results\n",
    "print(f\"The coldest month on Mars at Curiosity's location is Month {coldest_month} with an average minimum temperature of {coldest_temp:.2f}°C.\")\n",
    "print(f\"The warmest month on Mars at Curiosity's location is Month {warmest_month} with an average minimum temperature of {warmest_temp:.2f}°C.\")"
   ]
  },
  {
   "cell_type": "code",
   "execution_count": null,
   "metadata": {},
   "outputs": [],
   "source": [
    "# Calculate the average minimum daily temperature for each month\n",
    "avg_min_temp_by_month = df.groupby('month')['min_temp'].mean()\n",
    "\n",
    "# Sort the values\n",
    "sorted_avg_min_temp_by_month = avg_min_temp_by_month.sort_values()\n",
    "\n",
    "# Plot the average minimum daily temperature for each month\n",
    "plt.figure(figsize=(10, 6))\n",
    "bars = plt.bar(sorted_avg_min_temp_by_month.index, sorted_avg_min_temp_by_month.values, color='grey')\n",
    "\n",
    "# Color the lowest temperature bar blue and the highest temperature bar red\n",
    "bars[0].set_color('blue')\n",
    "bars[-1].set_color('red')\n",
    "\n",
    "plt.xlabel('Month')\n",
    "plt.ylabel('Average Minimum Temperature (Celsius)')\n",
    "plt.title('Average Minimum Daily Temperature by Month on Mars')\n",
    "plt.xticks(ticks=sorted_avg_min_temp_by_month.index, labels=sorted_avg_min_temp_by_month.index)  # Ensure all months are shown\n",
    "\n",
    "# Add text for the coldest and warmest months\n",
    "coldest_month = sorted_avg_min_temp_by_month.idxmin()\n",
    "coldest_temp = sorted_avg_min_temp_by_month.min()\n",
    "warmest_month = sorted_avg_min_temp_by_month.idxmax()\n",
    "warmest_temp = sorted_avg_min_temp_by_month.max()\n",
    "\n",
    "text = (\n",
    "    f\"The coldest month on Mars at Curiosity's location is Month {coldest_month} with an average minimum temperature of {coldest_temp:.2f}°C.\\n\"\n",
    "    f\"The warmest month on Mars at Curiosity's location is Month {warmest_month} with an average minimum temperature of {warmest_temp:.2f}°C.\"\n",
    ")\n",
    "plt.gcf().text(0.5, -0.15, text, ha='center', fontsize=10, wrap=True)\n",
    "\n",
    "# Adjust the layout to make room for the text\n",
    "plt.tight_layout(rect=[0, 0.1, 1, 0.95])\n",
    "\n",
    "# Save the plot with the text to the outputs folder as a .png file\n",
    "plt.savefig('outputs/average_min_temp_by_month_with_text.png', bbox_inches='tight')\n",
    "\n",
    "# Display the plot\n",
    "plt.show()\n"
   ]
  },
  {
   "cell_type": "code",
   "execution_count": null,
   "metadata": {},
   "outputs": [],
   "source": [
    "# 4. What is the average pressure by Martian month?\n",
    "# The average pressure for each month\n",
    "avg_pressure_by_month = df.groupby('month')['pressure'].mean()\n",
    "\n",
    "# Print the results\n",
    "print(avg_pressure_by_month)"
   ]
  },
  {
   "cell_type": "code",
   "execution_count": null,
   "metadata": {},
   "outputs": [],
   "source": [
    "# Calculate the average atmospheric pressure for each month\n",
    "avg_pressure_by_month = df.groupby('month')['pressure'].mean()\n",
    "\n",
    "# Sort the values\n",
    "sorted_avg_pressure_by_month = avg_pressure_by_month.sort_values()\n",
    "\n",
    "# Plot the average atmospheric pressure for each month\n",
    "plt.figure(figsize=(10, 6))\n",
    "bars = plt.bar(sorted_avg_pressure_by_month.index, sorted_avg_pressure_by_month.values, color='grey')\n",
    "\n",
    "# Color the lowest pressure bar blue and the highest pressure bar red\n",
    "bars[0].set_color('blue')\n",
    "bars[-1].set_color('red')\n",
    "\n",
    "plt.xlabel('Month')\n",
    "plt.ylabel('Average Atmospheric Pressure (Pa)')\n",
    "plt.title('Average Atmospheric Pressure by Month on Mars')\n",
    "plt.xticks(ticks=sorted_avg_pressure_by_month.index, labels=sorted_avg_pressure_by_month.index)  # Ensure all months are shown\n",
    "\n",
    "# Add text for the lowest and highest pressure months\n",
    "lowest_pressure_month = sorted_avg_pressure_by_month.idxmin()\n",
    "lowest_pressure_value = sorted_avg_pressure_by_month.min()\n",
    "highest_pressure_month = sorted_avg_pressure_by_month.idxmax()\n",
    "highest_pressure_value = sorted_avg_pressure_by_month.max()\n",
    "\n",
    "text = (\n",
    "    f\"The month with the lowest average atmospheric pressure is Month {lowest_pressure_month} with {lowest_pressure_value:.2f} Pa.\\n\"\n",
    "    f\"The month with the highest average atmospheric pressure is Month {highest_pressure_month} with {highest_pressure_value:.2f} Pa.\"\n",
    ")\n",
    "plt.gcf().text(0.5, -0.15, text, ha='center', fontsize=10, wrap=True)\n",
    "\n",
    "# Adjust the layout to make room for the text\n",
    "plt.tight_layout(rect=[0, 0.1, 1, 0.95])\n",
    "\n",
    "# Save the plot with the text to the outputs folder as a .png file\n",
    "plt.savefig('outputs/average_pressure_by_month_with_text.png', bbox_inches='tight')\n",
    "\n",
    "# Display the plot\n",
    "plt.show()\n"
   ]
  },
  {
   "cell_type": "code",
   "execution_count": null,
   "metadata": {},
   "outputs": [],
   "source": [
    "# Plot the minimum temperature as a time series\n",
    "plt.figure(figsize=(12, 6))\n",
    "plt.plot(df['terrestrial_date'], df['min_temp'], color='blue', linewidth=1)\n",
    "\n",
    "plt.xlabel('Terrestrial Date')\n",
    "plt.ylabel('Minimum Temperature (Celsius)')\n",
    "plt.title('Minimum Temperature on Mars Over Time')\n",
    "plt.grid(True)\n",
    "\n",
    "# Save the plot to the outputs folder as a .png file\n",
    "plt.savefig('outputs/min_temp_time_series.png', bbox_inches='tight')\n",
    "\n",
    "# Display the plot\n",
    "plt.show()"
   ]
  },
  {
   "cell_type": "code",
   "execution_count": null,
   "metadata": {},
   "outputs": [],
   "source": [
    "# Plot the solar longitude (ls) as a time series\n",
    "plt.figure(figsize=(12, 6))\n",
    "plt.plot(df['terrestrial_date'], df['ls'], color='purple', linewidth=1)\n",
    "\n",
    "plt.xlabel('Terrestrial Date')\n",
    "plt.ylabel('ls')\n",
    "plt.title('Ls Over Time')\n",
    "plt.grid(True)\n",
    "\n",
    "# # Save the plot to the outputs folder as a .png file\n",
    "# plt.savefig('outputs/min_temp_time_series.png', bbox_inches='tight')\n",
    "\n",
    "# Display the plot\n",
    "plt.show()"
   ]
  },
  {
   "cell_type": "code",
   "execution_count": null,
   "metadata": {},
   "outputs": [],
   "source": [
    "# Ensure the 'terrestrial_date' column is in datetime format\n",
    "df['terrestrial_date'] = pd.to_datetime(df['terrestrial_date'])\n",
    "\n",
    "# Sort the DataFrame by 'sol' to ensure chronological order in Martian days\n",
    "df = df.sort_values(by='sol')\n",
    "\n",
    "# Identify all entries where 'ls' is 0 (beginning of the Martian year)\n",
    "ls_zero_df = df[df['ls'] == 0][['terrestrial_date', 'ls']]\n",
    "\n",
    "# Print the DataFrame\n",
    "print(ls_zero_df)\n",
    "\n",
    "# Save the DataFrame to a CSV file in the outputs folder\n",
    "ls_zero_df.to_csv('outputs/ls_zero_dates.csv', index=False)"
   ]
  },
  {
   "cell_type": "code",
   "execution_count": null,
   "metadata": {},
   "outputs": [],
   "source": [
    "# Ensure the 'terrestrial_date' column is in datetime format\n",
    "df['terrestrial_date'] = pd.to_datetime(df['terrestrial_date'])\n",
    "\n",
    "# Sort the DataFrame by 'sol' to ensure chronological order in Martian days\n",
    "df = df.sort_values(by='sol')\n",
    "\n",
    "# Identify all entries where 'ls' is 0 (beginning of the Martian year)\n",
    "ls_zero_df = df[df['ls'] == 0][['terrestrial_date', 'ls']]\n",
    "\n",
    "# Calculate the difference in days between each date entry and the one above\n",
    "ls_zero_df['days_diff'] = ls_zero_df['terrestrial_date'].diff().dt.days\n",
    "\n",
    "# Print the DataFrame\n",
    "print(ls_zero_df)\n",
    "\n",
    "# Save the DataFrame to a CSV file in the outputs folder\n",
    "ls_zero_df.to_csv('outputs/ls_zero_dates_with_diff.csv', index=False)"
   ]
  },
  {
   "cell_type": "code",
   "execution_count": null,
   "metadata": {},
   "outputs": [],
   "source": [
    "earth_days_per_martian_year = int(ls_zero_df['days_diff'].max())\n",
    "earth_days_per_martian_year\n",
    "\n",
    "print(f\"There are {earth_days_per_martian_year} terrestrial (Earth) days in a Martian year.\")"
   ]
  },
  {
   "cell_type": "markdown",
   "metadata": {},
   "source": [
    "On average, the third month has the coldest minimum temperature on Mars, and the eighth month is the warmest. But it is always very cold there in human terms!\n",
    "\n"
   ]
  },
  {
   "cell_type": "markdown",
   "metadata": {},
   "source": [
    "Atmospheric pressure is, on average, lowest in the sixth month and highest in the ninth."
   ]
  },
  {
   "cell_type": "markdown",
   "metadata": {},
   "source": [
    "The distance from peak to peak is roughly 1425-750, or 675 days. A year on Mars appears to be about 675 days from the plot. Internet search confirms that a Mars year is equivalent to 687 earth days."
   ]
  },
  {
   "cell_type": "markdown",
   "metadata": {},
   "source": [
    "### Step 6: Save the Data\n",
    "\n",
    "Export the DataFrame to a CSV file."
   ]
  },
  {
   "cell_type": "code",
   "execution_count": null,
   "metadata": {},
   "outputs": [],
   "source": [
    "# Write the data to a CSV\n",
    "# Done with each bit of code above; please refer to the Outputs folder for the CSV and PNG files."
   ]
  },
  {
   "cell_type": "code",
   "execution_count": null,
   "metadata": {},
   "outputs": [],
   "source": [
    "browser.quit()"
   ]
  }
 ],
 "metadata": {
  "language_info": {
   "name": "python"
  }
 },
 "nbformat": 4,
 "nbformat_minor": 2
}
